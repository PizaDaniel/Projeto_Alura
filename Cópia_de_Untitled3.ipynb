{
  "nbformat": 4,
  "nbformat_minor": 0,
  "metadata": {
    "colab": {
      "provenance": [],
      "authorship_tag": "ABX9TyMvoF7Lg8wB22QwmXcE3L9b",
      "include_colab_link": true
    },
    "kernelspec": {
      "name": "python3",
      "display_name": "Python 3"
    },
    "language_info": {
      "name": "python"
    }
  },
  "cells": [
    {
      "cell_type": "markdown",
      "metadata": {
        "id": "view-in-github",
        "colab_type": "text"
      },
      "source": [
        "<a href=\"https://colab.research.google.com/github/PizaDaniel/Projeto_Alura/blob/main/C%C3%B3pia_de_Untitled3.ipynb\" target=\"_parent\"><img src=\"https://colab.research.google.com/assets/colab-badge.svg\" alt=\"Open In Colab\"/></a>"
      ]
    },
    {
      "cell_type": "markdown",
      "source": [
        "Instalando SDK do Google"
      ],
      "metadata": {
        "id": "y1Gr0kSzRg_b"
      }
    },
    {
      "cell_type": "code",
      "execution_count": null,
      "metadata": {
        "id": "1bL9Wo86ROGu"
      },
      "outputs": [],
      "source": [
        "!pip install -q -U google-generativeai"
      ]
    },
    {
      "cell_type": "code",
      "source": [
        "import google.generativeai as genai\n",
        "from google.colab import userdatapai_key = userdata.get('secret_key')\n",
        "genai.configure(api_key=GOOGLE_API_KEY)"
      ],
      "metadata": {
        "id": "eWrjHWweR5Qn"
      },
      "execution_count": null,
      "outputs": []
    },
    {
      "cell_type": "markdown",
      "source": [
        "Listar os modelos disponiveis"
      ],
      "metadata": {
        "id": "FH1VRYnuSeQ7"
      }
    },
    {
      "cell_type": "code",
      "source": [
        "for m in genai.list_models():\n",
        "  if 'generateContent' in m.supported_generation_methods:\n",
        "    print(m.name)"
      ],
      "metadata": {
        "colab": {
          "base_uri": "https://localhost:8080/",
          "height": 139
        },
        "id": "LYbBvWAJSXw7",
        "outputId": "ee8c2432-8f6f-4811-be35-4ae604618322"
      },
      "execution_count": null,
      "outputs": [
        {
          "output_type": "stream",
          "name": "stdout",
          "text": [
            "models/gemini-1.0-pro\n",
            "models/gemini-1.0-pro-001\n",
            "models/gemini-1.0-pro-latest\n",
            "models/gemini-1.0-pro-vision-latest\n",
            "models/gemini-1.5-pro-latest\n",
            "models/gemini-pro\n",
            "models/gemini-pro-vision\n"
          ]
        }
      ]
    },
    {
      "cell_type": "code",
      "source": [
        "generation_config = {\n",
        "    \"candidate_count\": 1,\n",
        "    \"temperature\": 0.5,\n",
        "}"
      ],
      "metadata": {
        "id": "np_cC9NsUicb"
      },
      "execution_count": null,
      "outputs": []
    },
    {
      "cell_type": "markdown",
      "source": [
        "Parâmetros de segurança"
      ],
      "metadata": {
        "id": "dthh2p1AbUqU"
      }
    },
    {
      "cell_type": "code",
      "source": [
        "safety_settings = {\n",
        "    \"HARASSMENT\": \"BLOCK_NONE\",\n",
        "    \"HATE\": \"BLOCK_NONE\",\n",
        "    \"SEXUAL\": \"BLOCK_NONE\",\n",
        "    \"DANGEROUS\": \"BLOCK_NONE\",\n",
        "}"
      ],
      "metadata": {
        "id": "zAHRUE04YMVH"
      },
      "execution_count": null,
      "outputs": []
    },
    {
      "cell_type": "markdown",
      "source": [
        "Inicializando o modelo"
      ],
      "metadata": {
        "id": "MUgDGfTcbckU"
      }
    },
    {
      "cell_type": "code",
      "source": [
        "model = genai.GenerativeModel(model_name=\"gemini-1.0-pro\",\n",
        "                              generation_config=generation_config,\n",
        "                              safety_settings=safety_settings)"
      ],
      "metadata": {
        "id": "yLWu-w6Xahcp"
      },
      "execution_count": null,
      "outputs": []
    },
    {
      "cell_type": "code",
      "source": [
        "response = model.generate_content (\"Vamos aprender conteúdo sobre IA. Me dê sugestões.\")\n",
        "print(response.text)"
      ],
      "metadata": {
        "colab": {
          "base_uri": "https://localhost:8080/",
          "height": 746
        },
        "id": "Fu4-HWRTc8FR",
        "outputId": "fbe20550-589b-4854-cee0-47163063433b"
      },
      "execution_count": null,
      "outputs": [
        {
          "output_type": "stream",
          "name": "stdout",
          "text": [
            "**Conceitos Fundamentais**\n",
            "\n",
            "* O que é Inteligência Artificial (IA)?\n",
            "* Tipos de IA: Aprendizado de Máquina, Aprendizado Profundo, Processamento de Linguagem Natural\n",
            "* Algoritmos de IA e técnicas de modelagem\n",
            "* Aplicações da IA em diferentes setores\n",
            "\n",
            "**Aprendizado de Máquina**\n",
            "\n",
            "* Tipos de Aprendizado de Máquina: Supervisionado, Não Supervisionado, por Reforço\n",
            "* Algoritmos de Aprendizado de Máquina: Regressão, Classificação, Agrupamento\n",
            "* Processo de Treinamento e Avaliação de Modelos\n",
            "* Seleção e Preparação de Dados\n",
            "\n",
            "**Aprendizado Profundo**\n",
            "\n",
            "* Redes Neurais: Arquiteturas, Treinamento e Otimização\n",
            "* Redes Convolucionais: Para processamento de imagens e vídeo\n",
            "* Redes Recorrentes: Para processamento de sequências e dados de texto\n",
            "* Aplicações do Aprendizado Profundo: Reconhecimento de Imagem, Processamento de Linguagem Natural\n",
            "\n",
            "**Processamento de Linguagem Natural**\n",
            "\n",
            "* Técnicas de Processamento de Texto: Tokenização, Stemming, Lematização\n",
            "* Análise de Sentimento e Classificação de Texto\n",
            "* Geração e Resumo de Linguagem Natural\n",
            "* Chatbots e Processamento de Diálogo\n",
            "\n",
            "**Aplicações da IA**\n",
            "\n",
            "* Visão Computacional: Reconhecimento de Imagem, Detecção de Objetos\n",
            "* Processamento de Linguagem Natural: Tradução, Resumo, Geração de Conteúdo\n",
            "* Medicina: Diagnóstico, Previsão de Doenças, Desenvolvimento de Medicamentos\n",
            "* Finanças: Detecção de Fraudes, Análise de Riscos, Negociação Automatizada\n",
            "* Transporte: Veículos Autônomos, Otimização de Rotas, Gerenciamento de Frotas\n",
            "\n",
            "**Ética e Implicações Sociais da IA**\n",
            "\n",
            "* Viés e Discriminação em Sistemas de IA\n",
            "* Privacidade e Segurança de Dados\n",
            "* Impacto da IA no Mercado de Trabalho e na Sociedade\n",
            "* Regulamentações e Políticas Éticas para IA\n"
          ]
        }
      ]
    },
    {
      "cell_type": "code",
      "source": [
        "chat = model.start_chat(history=[])"
      ],
      "metadata": {
        "id": "k8LM8mocdkaH"
      },
      "execution_count": null,
      "outputs": []
    },
    {
      "cell_type": "code",
      "source": [
        "prompt = input(\"Esperando prompt: \")\n",
        "\n",
        "while prompt != \"fim\":\n",
        "  response = chat.send_message(prompt)\n",
        "  print(\"Resposta: \", response.text, \"\\n\")\n",
        "  prompt = input(\"Esperando prompt: \")"
      ],
      "metadata": {
        "id": "XqHe3O0Ad9Zm"
      },
      "execution_count": null,
      "outputs": []
    },
    {
      "cell_type": "code",
      "source": [
        "#Melhorando a visualização\n",
        "#Código disponível em https://ai.google.dev/tutorials/python_quickstart#import_packages\n",
        "\n",
        "import textwrap\n",
        "from IPython.display import display\n",
        "from IPython.display import Markdown\n",
        "\n",
        "def to_markdown(text):\n",
        "   text = text.replace('°', '  *')\n",
        "   return Markdown(textwrap.indent(text, '> ', predicate=lambda _: True))\n",
        "\n",
        "#Imprimindo o histórico\n",
        "for message in chat.history:\n",
        "  display(to_markdown(f'**{message.role}**: {message.parts[0].text}'))\n",
        "  print('-' * 80)"
      ],
      "metadata": {
        "id": "4PardkR7kx9i"
      },
      "execution_count": null,
      "outputs": []
    }
  ]
}